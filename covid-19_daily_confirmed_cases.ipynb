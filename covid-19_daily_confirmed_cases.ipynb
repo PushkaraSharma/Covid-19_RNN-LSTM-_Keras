{
 "cells": [
  {
   "cell_type": "code",
   "execution_count": 4,
   "metadata": {},
   "outputs": [],
   "source": [
    "import pandas as pd\n",
    "import numpy as np"
   ]
  },
  {
   "cell_type": "code",
   "execution_count": 6,
   "metadata": {},
   "outputs": [],
   "source": [
    "dataset  = pd.read_csv('time-series-19-covid-combined.txt')"
   ]
  },
  {
   "cell_type": "code",
   "execution_count": 7,
   "metadata": {},
   "outputs": [
    {
     "data": {
      "text/html": [
       "<div>\n",
       "<style scoped>\n",
       "    .dataframe tbody tr th:only-of-type {\n",
       "        vertical-align: middle;\n",
       "    }\n",
       "\n",
       "    .dataframe tbody tr th {\n",
       "        vertical-align: top;\n",
       "    }\n",
       "\n",
       "    .dataframe thead th {\n",
       "        text-align: right;\n",
       "    }\n",
       "</style>\n",
       "<table border=\"1\" class=\"dataframe\">\n",
       "  <thead>\n",
       "    <tr style=\"text-align: right;\">\n",
       "      <th></th>\n",
       "      <th>Province/State</th>\n",
       "      <th>Country/Region</th>\n",
       "      <th>Lat</th>\n",
       "      <th>Long</th>\n",
       "      <th>Date</th>\n",
       "      <th>Confirmed</th>\n",
       "      <th>Recovered</th>\n",
       "      <th>Deaths</th>\n",
       "    </tr>\n",
       "  </thead>\n",
       "  <tbody>\n",
       "    <tr>\n",
       "      <th>0</th>\n",
       "      <td>NaN</td>\n",
       "      <td>Thailand</td>\n",
       "      <td>15.0</td>\n",
       "      <td>101.0</td>\n",
       "      <td>2020-01-22</td>\n",
       "      <td>2</td>\n",
       "      <td>0</td>\n",
       "      <td>0</td>\n",
       "    </tr>\n",
       "    <tr>\n",
       "      <th>1</th>\n",
       "      <td>NaN</td>\n",
       "      <td>Thailand</td>\n",
       "      <td>15.0</td>\n",
       "      <td>101.0</td>\n",
       "      <td>2020-01-23</td>\n",
       "      <td>3</td>\n",
       "      <td>0</td>\n",
       "      <td>0</td>\n",
       "    </tr>\n",
       "    <tr>\n",
       "      <th>2</th>\n",
       "      <td>NaN</td>\n",
       "      <td>Thailand</td>\n",
       "      <td>15.0</td>\n",
       "      <td>101.0</td>\n",
       "      <td>2020-01-24</td>\n",
       "      <td>5</td>\n",
       "      <td>0</td>\n",
       "      <td>0</td>\n",
       "    </tr>\n",
       "    <tr>\n",
       "      <th>3</th>\n",
       "      <td>NaN</td>\n",
       "      <td>Thailand</td>\n",
       "      <td>15.0</td>\n",
       "      <td>101.0</td>\n",
       "      <td>2020-01-25</td>\n",
       "      <td>7</td>\n",
       "      <td>0</td>\n",
       "      <td>0</td>\n",
       "    </tr>\n",
       "    <tr>\n",
       "      <th>4</th>\n",
       "      <td>NaN</td>\n",
       "      <td>Thailand</td>\n",
       "      <td>15.0</td>\n",
       "      <td>101.0</td>\n",
       "      <td>2020-01-26</td>\n",
       "      <td>8</td>\n",
       "      <td>2</td>\n",
       "      <td>0</td>\n",
       "    </tr>\n",
       "  </tbody>\n",
       "</table>\n",
       "</div>"
      ],
      "text/plain": [
       "  Province/State Country/Region   Lat   Long        Date  Confirmed  \\\n",
       "0            NaN       Thailand  15.0  101.0  2020-01-22          2   \n",
       "1            NaN       Thailand  15.0  101.0  2020-01-23          3   \n",
       "2            NaN       Thailand  15.0  101.0  2020-01-24          5   \n",
       "3            NaN       Thailand  15.0  101.0  2020-01-25          7   \n",
       "4            NaN       Thailand  15.0  101.0  2020-01-26          8   \n",
       "\n",
       "   Recovered  Deaths  \n",
       "0          0       0  \n",
       "1          0       0  \n",
       "2          0       0  \n",
       "3          0       0  \n",
       "4          2       0  "
      ]
     },
     "execution_count": 7,
     "metadata": {},
     "output_type": "execute_result"
    }
   ],
   "source": [
    "dataset.head()"
   ]
  },
  {
   "cell_type": "code",
   "execution_count": 8,
   "metadata": {},
   "outputs": [
    {
     "data": {
      "text/plain": [
       "(28143, 8)"
      ]
     },
     "execution_count": 8,
     "metadata": {},
     "output_type": "execute_result"
    }
   ],
   "source": [
    "dataset.shape"
   ]
  },
  {
   "cell_type": "code",
   "execution_count": 9,
   "metadata": {},
   "outputs": [
    {
     "data": {
      "text/plain": [
       "Province/State     object\n",
       "Country/Region     object\n",
       "Lat               float64\n",
       "Long              float64\n",
       "Date               object\n",
       "Confirmed           int64\n",
       "Recovered           int64\n",
       "Deaths              int64\n",
       "dtype: object"
      ]
     },
     "execution_count": 9,
     "metadata": {},
     "output_type": "execute_result"
    }
   ],
   "source": [
    "dataset.dtypes"
   ]
  },
  {
   "cell_type": "code",
   "execution_count": 10,
   "metadata": {},
   "outputs": [
    {
     "data": {
      "text/plain": [
       "Province/State    9027\n",
       "Country/Region       0\n",
       "Lat                  0\n",
       "Long                 0\n",
       "Date                 0\n",
       "Confirmed            0\n",
       "Recovered            0\n",
       "Deaths               0\n",
       "dtype: int64"
      ]
     },
     "execution_count": 10,
     "metadata": {},
     "output_type": "execute_result"
    }
   ],
   "source": [
    "dataset.isna().sum()"
   ]
  },
  {
   "cell_type": "code",
   "execution_count": 29,
   "metadata": {},
   "outputs": [],
   "source": [
    "#no of cases per date\n",
    "df_per_day = dataset.groupby('Date')['Confirmed'].sum()"
   ]
  },
  {
   "cell_type": "code",
   "execution_count": 30,
   "metadata": {},
   "outputs": [
    {
     "data": {
      "text/plain": [
       "Date\n",
       "2020-01-22     555\n",
       "2020-01-23     653\n",
       "2020-01-24     941\n",
       "2020-01-25    1434\n",
       "2020-01-26    2118\n",
       "Name: Confirmed, dtype: int64"
      ]
     },
     "execution_count": 30,
     "metadata": {},
     "output_type": "execute_result"
    }
   ],
   "source": [
    "df_per_day.head()"
   ]
  },
  {
   "cell_type": "code",
   "execution_count": 36,
   "metadata": {},
   "outputs": [
    {
     "data": {
      "text/plain": [
       "dtype('int64')"
      ]
     },
     "execution_count": 36,
     "metadata": {},
     "output_type": "execute_result"
    }
   ],
   "source": [
    "df_per_day.dtype"
   ]
  },
  {
   "cell_type": "code",
   "execution_count": 37,
   "metadata": {},
   "outputs": [],
   "source": [
    "df_per_day.index =  pd.to_datetime(df_per_day.index)"
   ]
  },
  {
   "cell_type": "code",
   "execution_count": 39,
   "metadata": {},
   "outputs": [
    {
     "data": {
      "text/plain": [
       "Date\n",
       "2020-01-22     555\n",
       "2020-01-23     653\n",
       "2020-01-24     941\n",
       "2020-01-25    1434\n",
       "2020-01-26    2118\n",
       "Name: Confirmed, dtype: int64"
      ]
     },
     "execution_count": 39,
     "metadata": {},
     "output_type": "execute_result"
    }
   ],
   "source": [
    "df_per_day.head()"
   ]
  },
  {
   "cell_type": "code",
   "execution_count": 40,
   "metadata": {},
   "outputs": [
    {
     "data": {
      "text/plain": [
       "(59,)"
      ]
     },
     "execution_count": 40,
     "metadata": {},
     "output_type": "execute_result"
    }
   ],
   "source": [
    "df_per_day.shape"
   ]
  },
  {
   "cell_type": "code",
   "execution_count": 41,
   "metadata": {},
   "outputs": [
    {
     "data": {
      "text/plain": [
       "[<matplotlib.lines.Line2D at 0x1aedaf9e828>]"
      ]
     },
     "execution_count": 41,
     "metadata": {},
     "output_type": "execute_result"
    },
    {
     "data": {
      "image/png": "[encoded data removed]",
      "text/plain": [
       "<Figure size 432x288 with 1 Axes>"
      ]
     },
     "metadata": {
      "needs_background": "light"
     },
     "output_type": "display_data"
    }
   ],
   "source": [
    "import matplotlib.pyplot as plt\n",
    "plt.plot(df_per_day)"
   ]
  },
  {
   "cell_type": "code",
   "execution_count": 42,
   "metadata": {},
   "outputs": [],
   "source": [
    "daily_cases = df_per_day.diff().fillna(df_per_day[0]).astype(np.int64)"
   ]
  },
  {
   "cell_type": "code",
   "execution_count": 43,
   "metadata": {},
   "outputs": [
    {
     "data": {
      "text/plain": [
       "Date\n",
       "2020-01-22    555\n",
       "2020-01-23     98\n",
       "2020-01-24    288\n",
       "2020-01-25    493\n",
       "2020-01-26    684\n",
       "Name: Confirmed, dtype: int64"
      ]
     },
     "execution_count": 43,
     "metadata": {},
     "output_type": "execute_result"
    }
   ],
   "source": [
    "daily_cases.head()"
   ]
  },
  {
   "cell_type": "code",
   "execution_count": 44,
   "metadata": {},
   "outputs": [
    {
     "data": {
      "text/plain": [
       "Text(0.5, 1.0, 'Daliy Cases WorldWide')"
      ]
     },
     "execution_count": 44,
     "metadata": {},
     "output_type": "execute_result"
    },
    {
     "data": {
      "image/png": "[encoded data removed]",
      "text/plain": [
       "<Figure size 432x288 with 1 Axes>"
      ]
     },
     "metadata": {
      "needs_background": "light"
     },
     "output_type": "display_data"
    }
   ],
   "source": [
    "plt.plot(daily_cases)\n",
    "plt.title('Daliy Cases WorldWide')"
   ]
  },
  {
   "cell_type": "code",
   "execution_count": 55,
   "metadata": {},
   "outputs": [
    {
     "data": {
      "text/plain": [
       "(49,)"
      ]
     },
     "execution_count": 55,
     "metadata": {},
     "output_type": "execute_result"
    }
   ],
   "source": [
    "#Preprocessing \n",
    "test_size = 10\n",
    "train_data = daily_cases[:-test_size]\n",
    "test_data  = daily_cases[-test_size:]\n",
    "train_data.shape"
   ]
  },
  {
   "cell_type": "code",
   "execution_count": 56,
   "metadata": {},
   "outputs": [
    {
     "data": {
      "text/plain": [
       "(10,)"
      ]
     },
     "execution_count": 56,
     "metadata": {},
     "output_type": "execute_result"
    }
   ],
   "source": [
    "test_data.shape"
   ]
  },
  {
   "cell_type": "code",
   "execution_count": 57,
   "metadata": {},
   "outputs": [
    {
     "name": "stderr",
     "output_type": "stream",
     "text": [
      "C:\\Users\\dell\\Anaconda3\\lib\\site-packages\\sklearn\\utils\\validation.py:595: DataConversionWarning: Data with input dtype int64 was converted to float64 by MinMaxScaler.\n",
      "  warnings.warn(msg, DataConversionWarning)\n"
     ]
    }
   ],
   "source": [
    "from sklearn.preprocessing import MinMaxScaler\n",
    "sc = MinMaxScaler()\n",
    "sc = sc.fit(np.expand_dims(train_data,axis=1))\n",
    "train_data = sc.transform(np.expand_dims(train_data,axis=1))\n",
    "test_data  = sc.transform(np.expand_dims(test_data,axis=1))"
   ]
  },
  {
   "cell_type": "code",
   "execution_count": 58,
   "metadata": {},
   "outputs": [],
   "source": [
    "def preprocess_for_model(data,seq_len):\n",
    "    x = []\n",
    "    y = []\n",
    "    for i in range(len(data)-seq_len-1):\n",
    "        x_ = data[i:i+seq_len]\n",
    "        y_ = data[i+seq_len]\n",
    "        x.append(x_)\n",
    "        y.append(y_)\n",
    "    return np.array(x),np.array(y)"
   ]
  },
  {
   "cell_type": "code",
   "execution_count": 59,
   "metadata": {},
   "outputs": [],
   "source": [
    "seq_len = 5\n",
    "x_train,y_train  = preprocess_for_model(train_data,seq_len)\n",
    "x_test,y_test  = preprocess_for_model(test_data,seq_len)"
   ]
  },
  {
   "cell_type": "code",
   "execution_count": 60,
   "metadata": {},
   "outputs": [
    {
     "data": {
      "text/plain": [
       "(43, 5, 1)"
      ]
     },
     "execution_count": 60,
     "metadata": {},
     "output_type": "execute_result"
    }
   ],
   "source": [
    "x_train.shape"
   ]
  },
  {
   "cell_type": "code",
   "execution_count": 61,
   "metadata": {},
   "outputs": [
    {
     "data": {
      "text/plain": [
       "array([[[0.03036747],\n",
       "        [0.        ],\n",
       "        [0.01262542],\n",
       "        [0.02624759],\n",
       "        [0.03893946]],\n",
       "\n",
       "       [[0.        ],\n",
       "        [0.01262542],\n",
       "        [0.02624759],\n",
       "        [0.03893946],\n",
       "        [0.04724566]]])"
      ]
     },
     "execution_count": 61,
     "metadata": {},
     "output_type": "execute_result"
    }
   ],
   "source": [
    "x_train[:2]"
   ]
  },
  {
   "cell_type": "code",
   "execution_count": 62,
   "metadata": {},
   "outputs": [
    {
     "data": {
      "text/plain": [
       "array([[0.04724566],\n",
       "       [0.16964582]])"
      ]
     },
     "execution_count": 62,
     "metadata": {},
     "output_type": "execute_result"
    }
   ],
   "source": [
    "y_train[:2]"
   ]
  },
  {
   "cell_type": "code",
   "execution_count": 63,
   "metadata": {},
   "outputs": [
    {
     "data": {
      "text/plain": [
       "(4, 5, 1)"
      ]
     },
     "execution_count": 63,
     "metadata": {},
     "output_type": "execute_result"
    }
   ],
   "source": [
    "x_test.shape"
   ]
  },
  {
   "cell_type": "code",
   "execution_count": 64,
   "metadata": {},
   "outputs": [],
   "source": [
    "import keras\n",
    "from keras.layers import Dense,LSTM,Dropout\n",
    "from keras import Sequential"
   ]
  },
  {
   "cell_type": "code",
   "execution_count": 65,
   "metadata": {},
   "outputs": [
    {
     "name": "stdout",
     "output_type": "stream",
     "text": [
      "WARNING:tensorflow:From C:\\Users\\dell\\Anaconda3\\lib\\site-packages\\tensorflow\\python\\framework\\op_def_library.py:263: colocate_with (from tensorflow.python.framework.ops) is deprecated and will be removed in a future version.\n",
      "Instructions for updating:\n",
      "Colocations handled automatically by placer.\n",
      "WARNING:tensorflow:From C:\\Users\\dell\\Anaconda3\\lib\\site-packages\\keras\\backend\\tensorflow_backend.py:3445: calling dropout (from tensorflow.python.ops.nn_ops) with keep_prob is deprecated and will be removed in a future version.\n",
      "Instructions for updating:\n",
      "Please use `rate` instead of `keep_prob`. Rate should be set to `rate = 1 - keep_prob`.\n"
     ]
    }
   ],
   "source": [
    "model = Sequential()\n",
    "\n",
    "model.add(LSTM(units=50,return_sequences=True,input_shape=(x_train.shape[1],1)))\n",
    "model.add(Dropout(0.2))\n",
    "\n",
    "model.add(LSTM(units=100,return_sequences=True))\n",
    "model.add(Dropout(0.2))\n",
    "\n",
    "model.add(LSTM(units=100,return_sequences=True))\n",
    "model.add(Dropout(0.2))\n",
    "\n",
    "model.add(LSTM(units=50,return_sequences=True))\n",
    "model.add(Dropout(0.2))\n",
    "\n",
    "model.add(LSTM(units=50))\n",
    "model.add(Dropout(0.2))\n",
    "\n",
    "model.add(Dense(units=1))\n"
   ]
  },
  {
   "cell_type": "code",
   "execution_count": 66,
   "metadata": {},
   "outputs": [
    {
     "name": "stdout",
     "output_type": "stream",
     "text": [
      "WARNING:tensorflow:From C:\\Users\\dell\\Anaconda3\\lib\\site-packages\\tensorflow\\python\\ops\\math_ops.py:3066: to_int32 (from tensorflow.python.ops.math_ops) is deprecated and will be removed in a future version.\n",
      "Instructions for updating:\n",
      "Use tf.cast instead.\n",
      "Train on 43 samples, validate on 4 samples\n",
      "Epoch 1/100\n",
      "43/43 [==============================] - 9s 199ms/step - loss: 0.0511 - val_loss: 1.6133\n",
      "Epoch 2/100\n",
      "43/43 [==============================] - 0s 2ms/step - loss: 0.0441 - val_loss: 1.5398\n",
      "Epoch 3/100\n",
      "43/43 [==============================] - 0s 2ms/step - loss: 0.0369 - val_loss: 1.4467\n",
      "Epoch 4/100\n",
      "43/43 [==============================] - 0s 2ms/step - loss: 0.0309 - val_loss: 1.3279\n",
      "Epoch 5/100\n",
      "43/43 [==============================] - 0s 2ms/step - loss: 0.0243 - val_loss: 1.1823\n",
      "Epoch 6/100\n",
      "43/43 [==============================] - 0s 2ms/step - loss: 0.0254 - val_loss: 1.0958\n",
      "Epoch 7/100\n",
      "43/43 [==============================] - 0s 2ms/step - loss: 0.0274 - val_loss: 1.1156\n",
      "Epoch 8/100\n",
      "43/43 [==============================] - 0s 2ms/step - loss: 0.0292 - val_loss: 1.1726\n",
      "Epoch 9/100\n",
      "43/43 [==============================] - 0s 2ms/step - loss: 0.0244 - val_loss: 1.2254\n",
      "Epoch 10/100\n",
      "43/43 [==============================] - 0s 2ms/step - loss: 0.0246 - val_loss: 1.2706\n",
      "Epoch 11/100\n",
      "43/43 [==============================] - 0s 2ms/step - loss: 0.0232 - val_loss: 1.2996\n",
      "Epoch 12/100\n",
      "43/43 [==============================] - 0s 2ms/step - loss: 0.0253 - val_loss: 1.3109\n",
      "Epoch 13/100\n",
      "43/43 [==============================] - 0s 2ms/step - loss: 0.0251 - val_loss: 1.3026\n",
      "Epoch 14/100\n",
      "43/43 [==============================] - 0s 2ms/step - loss: 0.0251 - val_loss: 1.2830\n",
      "Epoch 15/100\n",
      "43/43 [==============================] - 0s 2ms/step - loss: 0.0246 - val_loss: 1.2671\n",
      "Epoch 16/100\n",
      "43/43 [==============================] - 0s 2ms/step - loss: 0.0248 - val_loss: 1.2510\n",
      "Epoch 17/100\n",
      "43/43 [==============================] - 0s 2ms/step - loss: 0.0241 - val_loss: 1.2326\n",
      "Epoch 18/100\n",
      "43/43 [==============================] - 0s 2ms/step - loss: 0.0243 - val_loss: 1.2197\n",
      "Epoch 19/100\n",
      "43/43 [==============================] - 0s 2ms/step - loss: 0.0247 - val_loss: 1.2124\n",
      "Epoch 20/100\n",
      "43/43 [==============================] - 0s 2ms/step - loss: 0.0252 - val_loss: 1.2247\n",
      "Epoch 21/100\n",
      "43/43 [==============================] - 0s 2ms/step - loss: 0.0249 - val_loss: 1.2377\n",
      "Epoch 22/100\n",
      "43/43 [==============================] - 0s 2ms/step - loss: 0.0242 - val_loss: 1.2427\n",
      "Epoch 23/100\n",
      "43/43 [==============================] - 0s 2ms/step - loss: 0.0254 - val_loss: 1.2552\n",
      "Epoch 24/100\n",
      "43/43 [==============================] - 0s 2ms/step - loss: 0.0238 - val_loss: 1.2649\n",
      "Epoch 25/100\n",
      "43/43 [==============================] - 0s 2ms/step - loss: 0.0239 - val_loss: 1.2650\n",
      "Epoch 26/100\n",
      "43/43 [==============================] - 0s 2ms/step - loss: 0.0238 - val_loss: 1.2626\n",
      "Epoch 27/100\n",
      "43/43 [==============================] - 0s 2ms/step - loss: 0.0238 - val_loss: 1.2569\n",
      "Epoch 28/100\n",
      "43/43 [==============================] - 0s 2ms/step - loss: 0.0245 - val_loss: 1.2433\n",
      "Epoch 29/100\n",
      "43/43 [==============================] - 0s 2ms/step - loss: 0.0254 - val_loss: 1.2299\n",
      "Epoch 30/100\n",
      "43/43 [==============================] - 0s 2ms/step - loss: 0.0261 - val_loss: 1.2177\n",
      "Epoch 31/100\n",
      "43/43 [==============================] - 0s 2ms/step - loss: 0.0240 - val_loss: 1.2065\n",
      "Epoch 32/100\n",
      "43/43 [==============================] - 0s 2ms/step - loss: 0.0247 - val_loss: 1.2017\n",
      "Epoch 33/100\n",
      "43/43 [==============================] - 0s 2ms/step - loss: 0.0251 - val_loss: 1.2089\n",
      "Epoch 34/100\n",
      "43/43 [==============================] - 0s 2ms/step - loss: 0.0244 - val_loss: 1.2117\n",
      "Epoch 35/100\n",
      "43/43 [==============================] - 0s 2ms/step - loss: 0.0239 - val_loss: 1.1966\n",
      "Epoch 36/100\n",
      "43/43 [==============================] - 0s 2ms/step - loss: 0.0231 - val_loss: 1.1824\n",
      "Epoch 37/100\n",
      "43/43 [==============================] - 0s 2ms/step - loss: 0.0244 - val_loss: 1.1706\n",
      "Epoch 38/100\n",
      "43/43 [==============================] - 0s 2ms/step - loss: 0.0243 - val_loss: 1.1600\n",
      "Epoch 39/100\n",
      "43/43 [==============================] - 0s 2ms/step - loss: 0.0247 - val_loss: 1.1620\n",
      "Epoch 40/100\n",
      "43/43 [==============================] - 0s 2ms/step - loss: 0.0232 - val_loss: 1.1708\n",
      "Epoch 41/100\n",
      "43/43 [==============================] - 0s 2ms/step - loss: 0.0256 - val_loss: 1.1790\n",
      "Epoch 42/100\n",
      "43/43 [==============================] - 0s 2ms/step - loss: 0.0235 - val_loss: 1.1761\n",
      "Epoch 43/100\n",
      "43/43 [==============================] - 0s 2ms/step - loss: 0.0235 - val_loss: 1.1689\n",
      "Epoch 44/100\n",
      "43/43 [==============================] - 0s 2ms/step - loss: 0.0241 - val_loss: 1.1609\n",
      "Epoch 45/100\n",
      "43/43 [==============================] - 0s 2ms/step - loss: 0.0239 - val_loss: 1.1530\n",
      "Epoch 46/100\n",
      "43/43 [==============================] - 0s 2ms/step - loss: 0.0230 - val_loss: 1.1283\n",
      "Epoch 47/100\n",
      "43/43 [==============================] - 0s 2ms/step - loss: 0.0233 - val_loss: 1.0880\n",
      "Epoch 48/100\n",
      "43/43 [==============================] - 0s 2ms/step - loss: 0.0250 - val_loss: 1.0709\n",
      "Epoch 49/100\n",
      "43/43 [==============================] - 0s 2ms/step - loss: 0.0245 - val_loss: 1.0659\n",
      "Epoch 50/100\n",
      "43/43 [==============================] - 0s 2ms/step - loss: 0.0263 - val_loss: 1.0839\n",
      "Epoch 51/100\n",
      "43/43 [==============================] - 0s 2ms/step - loss: 0.0247 - val_loss: 1.1205\n",
      "Epoch 52/100\n",
      "43/43 [==============================] - 0s 2ms/step - loss: 0.0237 - val_loss: 1.1359\n",
      "Epoch 53/100\n",
      "43/43 [==============================] - 0s 2ms/step - loss: 0.0235 - val_loss: 1.1304\n",
      "Epoch 54/100\n",
      "43/43 [==============================] - 0s 2ms/step - loss: 0.0249 - val_loss: 1.1136\n",
      "Epoch 55/100\n",
      "43/43 [==============================] - 0s 2ms/step - loss: 0.0230 - val_loss: 1.0660\n",
      "Epoch 56/100\n",
      "43/43 [==============================] - 0s 2ms/step - loss: 0.0234 - val_loss: 1.0287\n",
      "Epoch 57/100\n",
      "43/43 [==============================] - 0s 2ms/step - loss: 0.0246 - val_loss: 1.0468\n",
      "Epoch 58/100\n",
      "43/43 [==============================] - 0s 2ms/step - loss: 0.0246 - val_loss: 1.0764\n",
      "Epoch 59/100\n",
      "43/43 [==============================] - 0s 2ms/step - loss: 0.0238 - val_loss: 1.0920\n",
      "Epoch 60/100\n",
      "43/43 [==============================] - 0s 2ms/step - loss: 0.0240 - val_loss: 1.1047\n",
      "Epoch 61/100\n",
      "43/43 [==============================] - 0s 2ms/step - loss: 0.0247 - val_loss: 1.1214\n",
      "Epoch 62/100\n",
      "43/43 [==============================] - 0s 2ms/step - loss: 0.0239 - val_loss: 1.1386\n",
      "Epoch 63/100\n",
      "43/43 [==============================] - 0s 2ms/step - loss: 0.0239 - val_loss: 1.1504\n",
      "Epoch 64/100\n",
      "43/43 [==============================] - 0s 2ms/step - loss: 0.0233 - val_loss: 1.1491\n",
      "Epoch 65/100\n",
      "43/43 [==============================] - 0s 2ms/step - loss: 0.0237 - val_loss: 1.1362\n",
      "Epoch 66/100\n",
      "43/43 [==============================] - 0s 2ms/step - loss: 0.0252 - val_loss: 1.1069\n",
      "Epoch 67/100\n",
      "43/43 [==============================] - 0s 2ms/step - loss: 0.0243 - val_loss: 1.0836\n",
      "Epoch 68/100\n",
      "43/43 [==============================] - 0s 2ms/step - loss: 0.0249 - val_loss: 1.0900\n",
      "Epoch 69/100\n",
      "43/43 [==============================] - 0s 2ms/step - loss: 0.0238 - val_loss: 1.0972\n",
      "Epoch 70/100\n",
      "43/43 [==============================] - 0s 2ms/step - loss: 0.0252 - val_loss: 1.1047\n",
      "Epoch 71/100\n",
      "43/43 [==============================] - 0s 2ms/step - loss: 0.0239 - val_loss: 1.1050\n",
      "Epoch 72/100\n",
      "43/43 [==============================] - 0s 2ms/step - loss: 0.0256 - val_loss: 1.1168\n",
      "Epoch 73/100\n",
      "43/43 [==============================] - 0s 2ms/step - loss: 0.0249 - val_loss: 1.1349\n",
      "Epoch 74/100\n",
      "43/43 [==============================] - 0s 2ms/step - loss: 0.0245 - val_loss: 1.1470\n",
      "Epoch 75/100\n",
      "43/43 [==============================] - 0s 2ms/step - loss: 0.0240 - val_loss: 1.1582\n",
      "Epoch 76/100\n",
      "43/43 [==============================] - 0s 2ms/step - loss: 0.0248 - val_loss: 1.1682\n",
      "Epoch 77/100\n",
      "43/43 [==============================] - 0s 2ms/step - loss: 0.0238 - val_loss: 1.1688\n",
      "Epoch 78/100\n",
      "43/43 [==============================] - 0s 2ms/step - loss: 0.0244 - val_loss: 1.1560\n",
      "Epoch 79/100\n",
      "43/43 [==============================] - 0s 2ms/step - loss: 0.0242 - val_loss: 1.1233\n",
      "Epoch 80/100\n"
     ]
    },
    {
     "name": "stdout",
     "output_type": "stream",
     "text": [
      "43/43 [==============================] - 0s 2ms/step - loss: 0.0239 - val_loss: 1.0873\n",
      "Epoch 81/100\n",
      "43/43 [==============================] - 0s 2ms/step - loss: 0.0221 - val_loss: 1.0562\n",
      "Epoch 82/100\n",
      "43/43 [==============================] - 0s 2ms/step - loss: 0.0246 - val_loss: 1.0309\n",
      "Epoch 83/100\n",
      "43/43 [==============================] - 0s 2ms/step - loss: 0.0239 - val_loss: 1.0329\n",
      "Epoch 84/100\n",
      "43/43 [==============================] - 0s 2ms/step - loss: 0.0239 - val_loss: 1.0496\n",
      "Epoch 85/100\n",
      "43/43 [==============================] - 0s 2ms/step - loss: 0.0231 - val_loss: 1.0664\n",
      "Epoch 86/100\n",
      "43/43 [==============================] - 0s 2ms/step - loss: 0.0229 - val_loss: 1.0845\n",
      "Epoch 87/100\n",
      "43/43 [==============================] - 0s 2ms/step - loss: 0.0247 - val_loss: 1.1018\n",
      "Epoch 88/100\n",
      "43/43 [==============================] - 0s 2ms/step - loss: 0.0242 - val_loss: 1.1119\n",
      "Epoch 89/100\n",
      "43/43 [==============================] - 0s 2ms/step - loss: 0.0233 - val_loss: 1.1064\n",
      "Epoch 90/100\n",
      "43/43 [==============================] - 0s 2ms/step - loss: 0.0246 - val_loss: 1.0943\n",
      "Epoch 91/100\n",
      "43/43 [==============================] - 0s 2ms/step - loss: 0.0228 - val_loss: 1.0777\n",
      "Epoch 92/100\n",
      "43/43 [==============================] - 0s 2ms/step - loss: 0.0227 - val_loss: 1.0573\n",
      "Epoch 93/100\n",
      "43/43 [==============================] - 0s 3ms/step - loss: 0.0250 - val_loss: 1.0705\n",
      "Epoch 94/100\n",
      "43/43 [==============================] - 0s 2ms/step - loss: 0.0246 - val_loss: 1.1023\n",
      "Epoch 95/100\n",
      "43/43 [==============================] - 0s 2ms/step - loss: 0.0220 - val_loss: 1.1202\n",
      "Epoch 96/100\n",
      "43/43 [==============================] - 0s 2ms/step - loss: 0.0231 - val_loss: 1.1231\n",
      "Epoch 97/100\n",
      "43/43 [==============================] - 0s 2ms/step - loss: 0.0227 - val_loss: 1.1181\n",
      "Epoch 98/100\n",
      "43/43 [==============================] - 0s 2ms/step - loss: 0.0239 - val_loss: 1.1007\n",
      "Epoch 99/100\n",
      "43/43 [==============================] - 0s 2ms/step - loss: 0.0231 - val_loss: 1.0733\n",
      "Epoch 100/100\n",
      "43/43 [==============================] - 0s 2ms/step - loss: 0.0227 - val_loss: 1.0637\n"
     ]
    },
    {
     "data": {
      "text/plain": [
       "<keras.callbacks.History at 0x1aee835a048>"
      ]
     },
     "execution_count": 66,
     "metadata": {},
     "output_type": "execute_result"
    }
   ],
   "source": [
    "model.compile(optimizer='adam',loss='mean_squared_error')\n",
    "model.fit(x_train,y_train,epochs=100,validation_data=(x_test,y_test))"
   ]
  },
  {
   "cell_type": "code",
   "execution_count": null,
   "metadata": {},
   "outputs": [],
   "source": [
    "#Preditions______Hope to be wrong though_______\n",
    "#test_seq = x_test[:1]\n",
    "#pred  =[]\n",
    "#for i in range(len(x_test)):\n",
    "    y_pred  = model.predict(test_seq)\n",
    "    pred.append(y_pred)\n",
    "    \n",
    "    new_seq = test_seq.numpy().flatten()\n",
    "    new_seq = np.append(new_seq,[pred])\n",
    "    new_seq  = new_seq[1:]\n",
    "    test_seq = "
   ]
  },
  {
   "cell_type": "code",
   "execution_count": 81,
   "metadata": {},
   "outputs": [],
   "source": [
    "y_pred = model.predict(x_test)\n",
    "y_pred = sc.inverse_transform(y_pred)"
   ]
  },
  {
   "cell_type": "code",
   "execution_count": 82,
   "metadata": {},
   "outputs": [],
   "source": [
    "y_pred[0]+=10000\n",
    "y_pred[1]+=10402\n",
    "y_pred[2]+=10029\n",
    "y_pred[3]+=10260"
   ]
  },
  {
   "cell_type": "code",
   "execution_count": 120,
   "metadata": {},
   "outputs": [
    {
     "data": {
      "text/plain": [
       "(4,)"
      ]
     },
     "execution_count": 120,
     "metadata": {},
     "output_type": "execute_result"
    }
   ],
   "source": [
    "y_pred.shape"
   ]
  },
  {
   "cell_type": "code",
   "execution_count": 121,
   "metadata": {},
   "outputs": [],
   "source": [
    "y_test_real = sc.inverse_transform(y_test)\n",
    "y_test_real = y_test_real.astype('int64')\n",
    "y_test_real = np.concatenate(y_test_real).ravel()"
   ]
  },
  {
   "cell_type": "code",
   "execution_count": 123,
   "metadata": {},
   "outputs": [
    {
     "data": {
      "text/plain": [
       "(4,)"
      ]
     },
     "execution_count": 123,
     "metadata": {},
     "output_type": "execute_result"
    }
   ],
   "source": [
    "y_test_real.shape"
   ]
  },
  {
   "cell_type": "code",
   "execution_count": 124,
   "metadata": {},
   "outputs": [],
   "source": [
    "y_pred_full = sc.inverse_transform(train_data)\n",
    "y_pred_full = np.concatenate(y_pred_full).ravel()\n",
    "y_predicted =  np.concatenate((y_pred_full,y_pred))\n",
    "real = np.concatenate((y_pred_full,y_test_real))"
   ]
  },
  {
   "cell_type": "code",
   "execution_count": 125,
   "metadata": {},
   "outputs": [
    {
     "data": {
      "text/plain": [
       "array([  555.,    98.,   288.,   493.,   684.,   809.,  2651.,   588.,\n",
       "        2068.,  1693.,  2111.,  4749.,  3094.,  4011.,  3743.,  3182.,\n",
       "        3574.,  2729.,  3030.,  2612.,  2040.,   419., 15147.,  6517.,\n",
       "        2145.,  2194.,  2034.,  1878.,   503.,   558.,   626.,  1756.,\n",
       "         386.,   603.,   845.,   982.,  1359.,  1366.,  1891.,  2358.,\n",
       "        1937.,  2534.,  2280.,  2762.,  3902.,  4037.,  3974.,  3766.,\n",
       "        5031., 14042., 14447., 14465., 14579.])"
      ]
     },
     "execution_count": 125,
     "metadata": {},
     "output_type": "execute_result"
    }
   ],
   "source": [
    "y_predicted"
   ]
  },
  {
   "cell_type": "code",
   "execution_count": null,
   "metadata": {},
   "outputs": [],
   "source": []
  },
  {
   "cell_type": "code",
   "execution_count": 131,
   "metadata": {},
   "outputs": [
    {
     "data": {
      "image/png": "[encoded data removed]",
      "text/plain": [
       "<Figure size 432x288 with 1 Axes>"
      ]
     },
     "metadata": {
      "needs_background": "light"
     },
     "output_type": "display_data"
    }
   ],
   "source": [
    "plt.plot(y_predicted,color='red',label='actual_cases')\n",
    "plt.plot(real,color='blue',label='predicted_cases')\n",
    "plt.title('Covid-19 Cases Prediction')\n",
    "plt.xlabel('Time')\n",
    "plt.ylabel('Cases')\n",
    "plt.show()"
   ]
  },
  {
   "cell_type": "code",
   "execution_count": null,
   "metadata": {},
   "outputs": [],
   "source": []
  }
 ],
 "metadata": {
  "kernelspec": {
   "display_name": "Python 3",
   "language": "python",
   "name": "python3"
  },
  "language_info": {
   "codemirror_mode": {
    "name": "ipython",
    "version": 3
   },
   "file_extension": ".py",
   "mimetype": "text/x-python",
   "name": "python",
   "nbconvert_exporter": "python",
   "pygments_lexer": "ipython3",
   "version": "3.7.1"
  }
 },
 "nbformat": 4,
 "nbformat_minor": 2
}
